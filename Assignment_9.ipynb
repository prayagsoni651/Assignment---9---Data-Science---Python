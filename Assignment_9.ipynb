{
 "cells": [
  {
   "cell_type": "code",
   "execution_count": null,
   "metadata": {},
   "outputs": [],
   "source": [
    "# 1. To what does a relative path refer?\n",
    "\n",
    "'''\n",
    "\n",
    "A relative path refers to the location of a file or directory relative to \n",
    "the current working directory or another reference point. It specifies \n",
    "the path to a file or directory in terms of its position relative to \n",
    "some other location in the file system.\n",
    "'''"
   ]
  },
  {
   "cell_type": "code",
   "execution_count": null,
   "metadata": {},
   "outputs": [],
   "source": [
    "# 2. What does an absolute path start with your operating system?\n",
    "\n",
    "\n",
    "'''\n",
    "\n",
    "An absolute path in most operating systems, including Windows, typically \n",
    "starts with the root directory or drive letter\n",
    "\n",
    "\n",
    "\n",
    "Windows:\n",
    "An absolute path in Windows starts with a drive letter followed by a colon\n",
    "(:) and then uses backslashes (\\) to separate directories.\n",
    "Example: C:\\Users\\User\\Documents\\example.txt\n",
    "\n",
    "'''\n"
   ]
  },
  {
   "cell_type": "code",
   "execution_count": 2,
   "metadata": {},
   "outputs": [
    {
     "name": "stdout",
     "output_type": "stream",
     "text": [
      "Current Working Directory: d:\\____Data___Science_____\\PYTHON . CODE\\Python Basic Asignment\\9.py\n"
     ]
    }
   ],
   "source": [
    "# 3. What do the functions os.getcwd() and os.chdir() do?\n",
    "\n",
    "\n",
    "'''os.getcwd():\n",
    "This function, short for \"get current working directory,\" returns a string\n",
    "representing the current working directory.'''\n",
    "\n",
    "import os\n",
    "\n",
    "current_directory = os.getcwd()\n",
    "print(\"Current Working Directory:\", current_directory)\n",
    "\n",
    "#The output will be the absolute path of the current working directory.\n",
    "\n",
    "\n",
    "'''os.chdir(path):\n",
    "This function, short for \"change directory,\" is used to change the current \n",
    "working directory to the specified path.'''\n",
    "\n",
    "import os\n",
    "\n",
    "new_directory = '/path/to/new/directory'\n",
    "os.chdir(new_directory)\n",
    "\n",
    "updated_directory = os.getcwd()\n",
    "print(\"Updated Working Directory:\", updated_directory)\n",
    "\n",
    "'''After calling os.chdir('/path/to/new/directory'), the current working \n",
    "directory is changed to the specified path.'''\n",
    "\n"
   ]
  },
  {
   "cell_type": "code",
   "execution_count": 3,
   "metadata": {},
   "outputs": [
    {
     "data": {
      "text/plain": [
       "'\\nThe . (dot) and .. (double dot) folders are special directory notations used \\nin file systems\\n\\n\\n\\n\\n (Dot):\\n = Represents the current directory.\\n = When used in a file path, it refers to the directory you are currently in.\\n = For example, if your current location is /home/user/documents,\\n   the path ./file.txt refers to file.txt in the current directory.\\n   \\n   \\n .. (Double Dot):\\n = Represents the parent directory.\\n = When used in a file path, it refers to the directory immediately above the \\n  current directory.\\n = For example, if your current location is /home/user/documents, the \\n   path ../photos/photo.jpg refers to photo.jpg in the photos directory, which is one level up from the current directory.  \\n   \\n   \\n   \\n   These notations are especially useful for navigating the file system. \\n   They provide a way to specify relative paths without having to know the\\n   absolute path. Using . and .. allows you to move around and access files \\n   and directories in a flexible and platform-independent manner.\\n'"
      ]
     },
     "execution_count": 3,
     "metadata": {},
     "output_type": "execute_result"
    }
   ],
   "source": [
    "# 4. What are the . and .. folders?\n",
    "\n",
    "'''\n",
    "The . (dot) and .. (double dot) folders are special directory notations used \n",
    "in file systems\n",
    "\n",
    "\n",
    "\n",
    "\n",
    " (Dot):\n",
    " = Represents the current directory.\n",
    " = When used in a file path, it refers to the directory you are currently in.\n",
    " = For example, if your current location is /home/user/documents,\n",
    "   the path ./file.txt refers to file.txt in the current directory.\n",
    "   \n",
    "   \n",
    " .. (Double Dot):\n",
    " = Represents the parent directory.\n",
    " = When used in a file path, it refers to the directory immediately above the \n",
    "  current directory.\n",
    " = For example, if your current location is /home/user/documents, the \n",
    "   path ../photos/photo.jpg refers to photo.jpg in the photos directory, which is one level up from the current directory.  \n",
    "   \n",
    "   \n",
    "   \n",
    "   These notations are especially useful for navigating the file system. \n",
    "   They provide a way to specify relative paths without having to know the\n",
    "   absolute path. Using . and .. allows you to move around and access files \n",
    "   and directories in a flexible and platform-independent manner.\n",
    "'''"
   ]
  },
  {
   "cell_type": "code",
   "execution_count": 4,
   "metadata": {},
   "outputs": [
    {
     "data": {
      "text/plain": [
       "'\\n\\nIn the path C:\\x08acon\\\\eggs\\\\spam.txt, the directory name (dir name) and the base \\nname (base name or file name) can be identified as follows:\\n\\nDirectory Name (dir name): C:\\x08acon\\\\eggs\\n = This is the portion of the path that specifies the directory containing\\n   the file.\\n = In this case, the directory name is C:\\x08acon\\\\eggs.\\n \\n \\n \\nBase Name (base name or file name): spam.txt\\n  = This is the actual name of the file, excluding the path to its directory.\\n  = In this case, the base name is spam.txt.\\n\\n'"
      ]
     },
     "execution_count": 4,
     "metadata": {},
     "output_type": "execute_result"
    }
   ],
   "source": [
    "# 5. In C:\\bacon\\eggs\\spam.txt, which part is the dir name, and which part is the base name?\n",
    "\n",
    "\n",
    "\n",
    "'''\n",
    "\n",
    "In the path C:\\bacon\\eggs\\spam.txt, the directory name (dir name) and the base \n",
    "name (base name or file name) can be identified as follows:\n",
    "\n",
    "Directory Name (dir name): C:\\bacon\\eggs\n",
    " = This is the portion of the path that specifies the directory containing\n",
    "   the file.\n",
    " = In this case, the directory name is C:\\bacon\\eggs.\n",
    " \n",
    " \n",
    " \n",
    "Base Name (base name or file name): spam.txt\n",
    "  = This is the actual name of the file, excluding the path to its directory.\n",
    "  = In this case, the base name is spam.txt.\n",
    "\n",
    "'''"
   ]
  },
  {
   "cell_type": "code",
   "execution_count": 5,
   "metadata": {},
   "outputs": [
    {
     "data": {
      "text/plain": [
       "\"\\nThe open() function in Python can take several mode arguments, specifying \\nhow the file should be opened. The three main mode arguments are:\\n\\n\\n\\nRead Mode ('r'):\\n = This is the default mode if no mode is specified.\\n = It is used for reading from the file.\\n = Example: open('filename.txt', 'r')\\n\\n\\n\\nWrite Mode ('w'):\\n = This mode is used for writing to the file.\\n = If the file already exists, it will be truncated (emptied) before writing.\\n = If the file does not exist, a new file will be created.\\n = Example: open('filename.txt', 'w')\\n\\n\\n\\n\\nAppend Mode ('a'):\\n = This mode is used for appending data to the end of the file.\\n = If the file already exists, the new data will be added to the existing content.\\n = If the file does not exist, a new file will be created.\\n = Example: open('filename.txt', 'a')\\n\""
      ]
     },
     "execution_count": 5,
     "metadata": {},
     "output_type": "execute_result"
    }
   ],
   "source": [
    "# 6. What are the three “mode” arguments that can be\n",
    "# passed to the open() function?\n",
    "\n",
    "'''\n",
    "The open() function in Python can take several mode arguments, specifying \n",
    "how the file should be opened. The three main mode arguments are:\n",
    "\n",
    "\n",
    "\n",
    "Read Mode ('r'):\n",
    " = This is the default mode if no mode is specified.\n",
    " = It is used for reading from the file.\n",
    " = Example: open('filename.txt', 'r')\n",
    "\n",
    "\n",
    "\n",
    "Write Mode ('w'):\n",
    " = This mode is used for writing to the file.\n",
    " = If the file already exists, it will be truncated (emptied) before writing.\n",
    " = If the file does not exist, a new file will be created.\n",
    " = Example: open('filename.txt', 'w')\n",
    "\n",
    "\n",
    "\n",
    "\n",
    "Append Mode ('a'):\n",
    " = This mode is used for appending data to the end of the file.\n",
    " = If the file already exists, the new data will be added to the existing content.\n",
    " = If the file does not exist, a new file will be created.\n",
    " = Example: open('filename.txt', 'a')\n",
    "'''"
   ]
  },
  {
   "cell_type": "code",
   "execution_count": 6,
   "metadata": {},
   "outputs": [],
   "source": [
    "# 7. What happens if an existing file is opened in write mode?\n",
    "\n",
    "\n",
    "\n",
    "'''\n",
    "Truncation:\n",
    "The contents of the existing file are truncated, which means that the file is \n",
    "emptied, and its size becomes 0 bytes.\n",
    "If the file doesn't exist, a new empty file is created.\n",
    "\n",
    "\n",
    "\n",
    "\n",
    "Writing:\n",
    "The file is opened for writing, allowing you to write new data to it.\n",
    "'''\n",
    "# Open a file in write mode ('w')\n",
    "with open('example.txt', 'w') as file:\n",
    "    file.write(\"This is new content.\")\n",
    "\n"
   ]
  },
  {
   "cell_type": "code",
   "execution_count": 7,
   "metadata": {},
   "outputs": [
    {
     "name": "stdout",
     "output_type": "stream",
     "text": [
      "This is new content.\n",
      "['This is new content.']\n"
     ]
    }
   ],
   "source": [
    "# 8. How do you tell the difference between read() and readlines()?\n",
    "\n",
    "'''\n",
    "read() Method:\n",
    " = The read() method reads the entire content of the file as a single string.\n",
    " = It reads from the current position of the file pointer to the end of the\n",
    "  file.\n",
    " = Example:\n",
    "'''\n",
    "with open('example.txt', 'r') as file:\n",
    "    content = file.read()\n",
    "    print(content)\n",
    "\n",
    "\n",
    "\n",
    "'''\n",
    "readlines() Method:\n",
    " = The readlines() method reads all lines from the file and returns them as a\n",
    "   list of strings.\n",
    " = Each element of the list corresponds to a line in the file, including \n",
    "   newline characters ('\\n').\n",
    " = Example:\n",
    "'''\n",
    "\n",
    "with open('example.txt', 'r') as file:\n",
    "    lines = file.readlines()\n",
    "    print(lines)\n",
    "\n"
   ]
  },
  {
   "cell_type": "code",
   "execution_count": 8,
   "metadata": {},
   "outputs": [
    {
     "name": "stdout",
     "output_type": "stream",
     "text": [
      "value1\n",
      "[1, 2, 3]\n"
     ]
    }
   ],
   "source": [
    "# 9. What data structure does a shelf value resemble?\n",
    "\n",
    "'''\n",
    "A shelf is a disk-based mapping where keys and their corresponding values \n",
    "can be stored. It supports basic dictionary operations like __getitem__, __\n",
    "setitem__, and others. It allows you to persistently store and retrieve \n",
    "data between program runs.\n",
    "'''\n",
    "\n",
    "import shelve\n",
    "\n",
    "# Open a shelf file\n",
    "with shelve.open('my_shelf') as shelf:\n",
    "    # Store data\n",
    "    shelf['key1'] = 'value1'\n",
    "    shelf['key2'] = [1, 2, 3]\n",
    "\n",
    "    # Retrieve data\n",
    "    value1 = shelf['key1']\n",
    "    value2 = shelf['key2']\n",
    "\n",
    "    print(value1)\n",
    "    print(value2)\n"
   ]
  },
  {
   "cell_type": "code",
   "execution_count": null,
   "metadata": {},
   "outputs": [],
   "source": []
  }
 ],
 "metadata": {
  "kernelspec": {
   "display_name": "base",
   "language": "python",
   "name": "python3"
  },
  "language_info": {
   "codemirror_mode": {
    "name": "ipython",
    "version": 3
   },
   "file_extension": ".py",
   "mimetype": "text/x-python",
   "name": "python",
   "nbconvert_exporter": "python",
   "pygments_lexer": "ipython3",
   "version": "3.11.4"
  }
 },
 "nbformat": 4,
 "nbformat_minor": 2
}
